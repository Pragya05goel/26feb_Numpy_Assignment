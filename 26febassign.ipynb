{
 "cells": [
  {
   "cell_type": "markdown",
   "id": "74327dc3-c215-4057-9b14-a6b763f6bc2b",
   "metadata": {},
   "source": [
    "## ASSIGNMENT"
   ]
  },
  {
   "cell_type": "raw",
   "id": "47a59928-1d73-4b88-9f93-2f2d9dccc69e",
   "metadata": {},
   "source": [
    "Consider the below code to answer further questions:\n",
    "import numpy as np\n",
    "list_ = [ ‘1’ , ’2’ , ‘3’ , ‘4’ , ‘5’ ]\n",
    "array_list = np.array(object = list_)\n"
   ]
  },
  {
   "cell_type": "raw",
   "id": "a686f46a-6999-4ca8-a06f-3a3a491f4ec8",
   "metadata": {},
   "source": [
    "Q1. Is there any difference in the data type of variables list_ and array_list? If there is then write a code\n",
    "to print the data types of both the variables."
   ]
  },
  {
   "cell_type": "raw",
   "id": "4726097d-c2f5-431e-a8f7-69c6b54aa56a",
   "metadata": {},
   "source": [
    "yes\n",
    "Data type of list_ is list while data type of array_list is array"
   ]
  },
  {
   "cell_type": "code",
   "execution_count": 1,
   "id": "bf666d0c-64cb-43fc-9fa0-073344401391",
   "metadata": {},
   "outputs": [],
   "source": [
    "import numpy as np\n",
    "list_ = [ '1' , '2' , '3' , '4' , '5' ]\n",
    "array_list = np.array(object = list_)"
   ]
  },
  {
   "cell_type": "code",
   "execution_count": 2,
   "id": "ce52c98c-c38a-4bff-b039-bc01629ecef4",
   "metadata": {},
   "outputs": [
    {
     "data": {
      "text/plain": [
       "['1', '2', '3', '4', '5']"
      ]
     },
     "execution_count": 2,
     "metadata": {},
     "output_type": "execute_result"
    }
   ],
   "source": [
    "list_"
   ]
  },
  {
   "cell_type": "code",
   "execution_count": 3,
   "id": "6abe45e6-e698-4f2a-b48e-665c15477033",
   "metadata": {},
   "outputs": [
    {
     "data": {
      "text/plain": [
       "array(['1', '2', '3', '4', '5'], dtype='<U1')"
      ]
     },
     "execution_count": 3,
     "metadata": {},
     "output_type": "execute_result"
    }
   ],
   "source": [
    "array_list"
   ]
  },
  {
   "cell_type": "code",
   "execution_count": 4,
   "id": "e1b7a072-c814-4df6-bda8-9129d1a9dff9",
   "metadata": {},
   "outputs": [
    {
     "data": {
      "text/plain": [
       "list"
      ]
     },
     "execution_count": 4,
     "metadata": {},
     "output_type": "execute_result"
    }
   ],
   "source": [
    "type(list_)"
   ]
  },
  {
   "cell_type": "code",
   "execution_count": 5,
   "id": "b3d4efda-de6d-4f36-a7c2-9e5641a2c51e",
   "metadata": {},
   "outputs": [
    {
     "data": {
      "text/plain": [
       "numpy.ndarray"
      ]
     },
     "execution_count": 5,
     "metadata": {},
     "output_type": "execute_result"
    }
   ],
   "source": [
    "type(array_list)"
   ]
  },
  {
   "cell_type": "raw",
   "id": "ffe83f2d-4d42-4d41-8d64-97202137ce35",
   "metadata": {},
   "source": [
    "Q2. Write a code to print the data type of each and every element of both the variables list_ and\n",
    "array_list."
   ]
  },
  {
   "cell_type": "code",
   "execution_count": 6,
   "id": "7ba42ca7-5e7b-4690-9a30-f69bfccf21b3",
   "metadata": {},
   "outputs": [
    {
     "data": {
      "text/plain": [
       "{0: str, 1: str, 2: str, 3: str, 4: str}"
      ]
     },
     "execution_count": 6,
     "metadata": {},
     "output_type": "execute_result"
    }
   ],
   "source": [
    "d={}\n",
    "for i in range(len(list_)):\n",
    "    d[i]=type(list_[i])\n",
    "\n",
    "d  "
   ]
  },
  {
   "cell_type": "code",
   "execution_count": 7,
   "id": "eb5d5f71-cedb-4fdb-8f71-7132b72cc749",
   "metadata": {},
   "outputs": [
    {
     "data": {
      "text/plain": [
       "{0: numpy.str_, 1: numpy.str_, 2: numpy.str_, 3: numpy.str_, 4: numpy.str_}"
      ]
     },
     "execution_count": 7,
     "metadata": {},
     "output_type": "execute_result"
    }
   ],
   "source": [
    "d={}\n",
    "for i in range(len(array_list)):\n",
    "    d[i]=type(array_list[i])\n",
    "\n",
    "d "
   ]
  },
  {
   "cell_type": "raw",
   "id": "924615a8-3e1b-47d1-b552-d8632e2b7a75",
   "metadata": {},
   "source": [
    "Q3. Considering the following changes in the variable, array_list:\n",
    "\n",
    "array_list = np.array(object = list_, dtype = int)\n",
    "\n",
    "Will there be any difference in the data type of the elements present in both the variables, list_ and\n",
    "arra_list? If so then print the data types of each and every element present in both the variables, list_\n",
    "and array_list."
   ]
  },
  {
   "cell_type": "markdown",
   "id": "7b9093b7-077d-43b6-adfb-970df1a62cc7",
   "metadata": {},
   "source": [
    "yes"
   ]
  },
  {
   "cell_type": "code",
   "execution_count": 8,
   "id": "48d05689-4e06-4d7f-9014-3d9666594c07",
   "metadata": {},
   "outputs": [
    {
     "data": {
      "text/plain": [
       "array([1, 2, 3, 4, 5])"
      ]
     },
     "execution_count": 8,
     "metadata": {},
     "output_type": "execute_result"
    }
   ],
   "source": [
    "array_list = np.array(object = list_, dtype = int)\n",
    "array_list"
   ]
  },
  {
   "cell_type": "code",
   "execution_count": 9,
   "id": "e3d70113-939d-4331-8048-d6eb68308ff3",
   "metadata": {},
   "outputs": [
    {
     "data": {
      "text/plain": [
       "numpy.ndarray"
      ]
     },
     "execution_count": 9,
     "metadata": {},
     "output_type": "execute_result"
    }
   ],
   "source": [
    "type(array_list)"
   ]
  },
  {
   "cell_type": "code",
   "execution_count": 10,
   "id": "a431ee1b-9c2e-43ee-afeb-cbe3fb4bbf05",
   "metadata": {},
   "outputs": [
    {
     "data": {
      "text/plain": [
       "{0: numpy.int64,\n",
       " 1: numpy.int64,\n",
       " 2: numpy.int64,\n",
       " 3: numpy.int64,\n",
       " 4: numpy.int64}"
      ]
     },
     "execution_count": 10,
     "metadata": {},
     "output_type": "execute_result"
    }
   ],
   "source": [
    "d={}\n",
    "for i in range(len(array_list)):\n",
    "    d[i]=type(array_list[i])\n",
    "\n",
    "d"
   ]
  },
  {
   "cell_type": "code",
   "execution_count": 11,
   "id": "d14ba270-102d-4db5-94ed-4c6ac9aff274",
   "metadata": {},
   "outputs": [
    {
     "data": {
      "text/plain": [
       "{0: str, 1: str, 2: str, 3: str, 4: str}"
      ]
     },
     "execution_count": 11,
     "metadata": {},
     "output_type": "execute_result"
    }
   ],
   "source": [
    "d={}\n",
    "for i in range(len(list_)):\n",
    "    d[i]=type(list_[i])\n",
    "\n",
    "d "
   ]
  },
  {
   "cell_type": "raw",
   "id": "a78e055e-d209-41b5-80f8-544be143c70a",
   "metadata": {},
   "source": [
    "Consider the below code to answer further questions:\n",
    "\n",
    "import numpy as np\n",
    "\n",
    "num_list = [ [ 1 , 2 , 3 ] , [ 4 , 5 , 6 ] ]\n",
    "\n",
    "num_array = np.array(object = num_list)"
   ]
  },
  {
   "cell_type": "raw",
   "id": "7fc3e212-d8bc-43ce-ac9f-603299228286",
   "metadata": {},
   "source": [
    "Q4. Write a code to find the following characteristics of variable, num_array:\n",
    "\n",
    "(i) shape\n",
    "(ii) size"
   ]
  },
  {
   "cell_type": "code",
   "execution_count": 12,
   "id": "a7f8276a-7725-4592-b7bc-4de494dbe19c",
   "metadata": {},
   "outputs": [],
   "source": [
    "import numpy as np\n",
    "num_list = [ [ 1 , 2 , 3 ] , [ 4 , 5 , 6 ] ]\n",
    "num_array = np.array(object = num_list)"
   ]
  },
  {
   "cell_type": "code",
   "execution_count": 13,
   "id": "70eff1c1-b115-4bed-bd5b-520b156c6b88",
   "metadata": {},
   "outputs": [
    {
     "data": {
      "text/plain": [
       "(2, 3)"
      ]
     },
     "execution_count": 13,
     "metadata": {},
     "output_type": "execute_result"
    }
   ],
   "source": [
    "np.shape(num_array)"
   ]
  },
  {
   "cell_type": "code",
   "execution_count": 14,
   "id": "e9faf744-2912-49c1-8deb-6707aebff85c",
   "metadata": {},
   "outputs": [
    {
     "data": {
      "text/plain": [
       "6"
      ]
     },
     "execution_count": 14,
     "metadata": {},
     "output_type": "execute_result"
    }
   ],
   "source": [
    "np.size(num_array)"
   ]
  },
  {
   "cell_type": "raw",
   "id": "cb3edf32-49b1-424d-abab-1ae3b967667d",
   "metadata": {},
   "source": [
    "Q5. Write a code to create numpy array of 3*3 matrix containing zeros only, using a numpy array\n",
    "creation function.\n",
    "[Hint: The size of the array will be 9 and the shape will be (3,3).]"
   ]
  },
  {
   "cell_type": "code",
   "execution_count": 15,
   "id": "eee1e7f0-0203-4bd7-9684-b20341219db0",
   "metadata": {},
   "outputs": [],
   "source": [
    "zero_array=np.zeros((3,3))"
   ]
  },
  {
   "cell_type": "code",
   "execution_count": 16,
   "id": "1e9025a7-53eb-46a9-9d2c-e83d7617f7cd",
   "metadata": {},
   "outputs": [
    {
     "data": {
      "text/plain": [
       "(3, 3)"
      ]
     },
     "execution_count": 16,
     "metadata": {},
     "output_type": "execute_result"
    }
   ],
   "source": [
    "np.shape(zero_array)"
   ]
  },
  {
   "cell_type": "code",
   "execution_count": 17,
   "id": "e4542168-4253-4402-bd45-439c60e3b36e",
   "metadata": {},
   "outputs": [
    {
     "data": {
      "text/plain": [
       "array([[0., 0., 0.],\n",
       "       [0., 0., 0.],\n",
       "       [0., 0., 0.]])"
      ]
     },
     "execution_count": 17,
     "metadata": {},
     "output_type": "execute_result"
    }
   ],
   "source": [
    "zero_array\n"
   ]
  },
  {
   "cell_type": "raw",
   "id": "451932ca-6f23-467e-b512-9c2e40c3b3f9",
   "metadata": {},
   "source": [
    "Q6. Create an identity matrix of shape (5,5) using numpy functions?\n",
    "[Hint: An identity matrix is a matrix containing 1 diagonally and other elements will be 0.]"
   ]
  },
  {
   "cell_type": "code",
   "execution_count": 18,
   "id": "a3dbaf02-6483-4a0c-a1d0-95fe94cdcef5",
   "metadata": {},
   "outputs": [],
   "source": [
    "import numpy.matlib as nm"
   ]
  },
  {
   "cell_type": "code",
   "execution_count": 19,
   "id": "314f5312-9b77-44a7-8e3d-0132afcdca36",
   "metadata": {},
   "outputs": [],
   "source": [
    "identity_matrix=nm.eye(5,5)"
   ]
  },
  {
   "cell_type": "code",
   "execution_count": 20,
   "id": "5d13524e-9e0e-4568-939b-1173cf1b3bca",
   "metadata": {},
   "outputs": [
    {
     "data": {
      "text/plain": [
       "numpy.matrix"
      ]
     },
     "execution_count": 20,
     "metadata": {},
     "output_type": "execute_result"
    }
   ],
   "source": [
    "type(identity_matrix)"
   ]
  },
  {
   "cell_type": "code",
   "execution_count": 21,
   "id": "1f01d827-643d-4200-ab70-326a14fced1b",
   "metadata": {},
   "outputs": [
    {
     "data": {
      "text/plain": [
       "matrix([[1., 0., 0., 0., 0.],\n",
       "        [0., 1., 0., 0., 0.],\n",
       "        [0., 0., 1., 0., 0.],\n",
       "        [0., 0., 0., 1., 0.],\n",
       "        [0., 0., 0., 0., 1.]])"
      ]
     },
     "execution_count": 21,
     "metadata": {},
     "output_type": "execute_result"
    }
   ],
   "source": [
    "identity_matrix"
   ]
  },
  {
   "cell_type": "markdown",
   "id": "0dc9df64-30b2-4386-a576-bba72dba8128",
   "metadata": {},
   "source": [
    "----"
   ]
  }
 ],
 "metadata": {
  "kernelspec": {
   "display_name": "Python 3 (ipykernel)",
   "language": "python",
   "name": "python3"
  },
  "language_info": {
   "codemirror_mode": {
    "name": "ipython",
    "version": 3
   },
   "file_extension": ".py",
   "mimetype": "text/x-python",
   "name": "python",
   "nbconvert_exporter": "python",
   "pygments_lexer": "ipython3",
   "version": "3.10.8"
  }
 },
 "nbformat": 4,
 "nbformat_minor": 5
}
